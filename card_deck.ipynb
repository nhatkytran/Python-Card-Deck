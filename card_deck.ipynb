{
 "cells": [
  {
   "cell_type": "code",
   "execution_count": 6,
   "metadata": {},
   "outputs": [],
   "source": [
    "from collections import namedtuple\n",
    "\n",
    "Card = namedtuple('Card', 'rank suit')\n",
    "\n",
    "class Cards:\n",
    "  SUITS = ('Spades', 'Hearts', 'Diamonds', 'Clubs')\n",
    "  RANKS = tuple(range(2, 11)) + tuple('JQKA')\n",
    "\n",
    "  def __len__(self):\n",
    "    return len(self.__class__.SUITS) * len(self.__class__.RANKS)\n",
    "\n",
    "  @classmethod\n",
    "  def rank_and_suit(cls, index):\n",
    "    rank = cls.RANKS[index % len(cls.RANKS)]\n",
    "    suit = cls.SUITS[index // len(cls.RANKS)]\n",
    "    return rank, suit\n",
    "\n",
    "  def __getitem__(self, value):\n",
    "    try:\n",
    "      if isinstance(value, int):\n",
    "        return Card(*self.rank_and_suit(value))\n",
    "      return [Card(*self.rank_and_suit(index))\n",
    "              for index in range(*value.indices(len(self)))]\n",
    "    except Exception:\n",
    "      raise NotImplemented\n",
    "\n",
    "  def __iter__(self):\n",
    "    return self.cards_gen()\n",
    "\n",
    "  def __reversed__(self):\n",
    "    return self.cards_gen_reversed()\n",
    "\n",
    "  @classmethod\n",
    "  def cards_gen(cls):\n",
    "    for suit in cls.SUITS:\n",
    "      for rank in cls.RANKS:\n",
    "        yield Card(rank, suit)\n",
    "\n",
    "  @classmethod\n",
    "  def cards_gen_reversed(cls):\n",
    "    for suit in reversed(cls.SUITS):\n",
    "      for rank in reversed(cls.RANKS):\n",
    "        yield Card(rank, suit)\n",
    "\n",
    "\n",
    "cards = Cards()"
   ]
  },
  {
   "cell_type": "code",
   "execution_count": null,
   "metadata": {},
   "outputs": [],
   "source": []
  }
 ],
 "metadata": {
  "kernelspec": {
   "display_name": "Python 3.9.5 64-bit",
   "language": "python",
   "name": "python3"
  },
  "language_info": {
   "codemirror_mode": {
    "name": "ipython",
    "version": 3
   },
   "file_extension": ".py",
   "mimetype": "text/x-python",
   "name": "python",
   "nbconvert_exporter": "python",
   "pygments_lexer": "ipython3",
   "version": "3.9.5"
  },
  "orig_nbformat": 4,
  "vscode": {
   "interpreter": {
    "hash": "b8bdd4e700647ba2b08c59e5df8b7da1dcf50a218bcd4c1bcd9b3dc92e8788e5"
   }
  }
 },
 "nbformat": 4,
 "nbformat_minor": 2
}
